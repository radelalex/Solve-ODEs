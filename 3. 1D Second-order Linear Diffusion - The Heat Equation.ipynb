{
 "cells": [
  {
   "cell_type": "code",
   "execution_count": 2,
   "metadata": {},
   "outputs": [],
   "source": [
    "import numpy as np\n",
    "import matplotlib.pyplot as plt\n",
    "import matplotlib.animation as animation\n",
    "from matplotlib.animation import FuncAnimation\n",
    "#from celluloid import Camera\n",
    "import matplotlib.cm as cm\n",
    "\n",
    "def convection(nt, nx, delta_x, c):\n",
    "    # Calculated params\n",
    "    omega = 0.2\n",
    "\n",
    "    # Initialise data structures\n",
    "    u = np.zeros((nx,nt))\n",
    "    x = np.zeros(nx)\n",
    "\n",
    "    # Boundary conditions\n",
    "    #u[0,:] = u[nx-1,:] = 0\n",
    "\n",
    "    # Initial conditions\n",
    "    for i in range(0,nx):\n",
    "        #u[i,0] = 0#np.cos(omega*i*180/(nx*np.pi))\n",
    "        if i < nx/4:\n",
    "            u[i,0] = 2\n",
    "        else:\n",
    "            u[i,0] = 1\n",
    "            \n",
    "    for i in range(0,nx):\n",
    "        x[i] = i*delta_x\n",
    "        \n",
    "    return u, x\n",
    "\n",
    "def plot_convection(u_k,k):\n",
    "    \"\"\"\n",
    "    Plots the 1D velocity field\n",
    "    \"\"\"\n",
    "    plt.clf()\n",
    "    plt.plot(x,u_k,'r')\n",
    "    plt.xlabel('x (m)')\n",
    "    plt.ylabel('u (m/s)')\n",
    "    plt.ylim([np.nanmin(u)-0.1*abs(np.amax(u)),1.1*np.amax(u)])\n",
    "    plt.title(f\"Temperature at t = {k*delta_t:.3f} unit time\")\n",
    "    return plt\n",
    "\n",
    "def plot_convection2(u,k,i,x):\n",
    "    plt.plot(x,u[:,k],color=colorwave[i])\n",
    "    plt.xlabel('x (m)')\n",
    "    plt.ylabel('u (m/s)')\n",
    "    plt.ylim([np.amin(u)-0.1,np.amax(u)+0.1])\n",
    "    #plt.title(f\"Temperature at t = {k*delta_t:.3f} unit time\")\n",
    "    \n",
    "def animate(k):\n",
    "    plot_convection(u[:,k], k)"
   ]
  },
  {
   "cell_type": "markdown",
   "metadata": {},
   "source": [
    "## Inspired by\n",
    "## http://thevisualroom.com/diffusion.html\n",
    "\n",
    "\n",
    "Equation:\n",
    "\n",
    "## $$\n",
    "\\frac{\\partial u}{\\partial t} - v \\frac{\\partial^2 u}{\\partial x^2} = 0\n",
    "$$"
   ]
  },
  {
   "cell_type": "code",
   "execution_count": 82,
   "metadata": {},
   "outputs": [
    {
     "data": {
      "image/png": "[encoded data removed]",
      "text/plain": [
       "<Figure size 432x288 with 1 Axes>"
      ]
     },
     "metadata": {
      "needs_background": "light"
     },
     "output_type": "display_data"
    }
   ],
   "source": [
    "name = '3 Heat Equation'\n",
    "length = 10\n",
    "nx = 5000\n",
    "nt = 1000\n",
    "v = 1\n",
    "alpha = 0.5\n",
    "delta_x = length/nx\n",
    "delta_t = (delta_x ** 2)/(4 * alpha)\n",
    "\n",
    "u,x = convection(nt,nx,delta_x,v)\n",
    "        \n",
    "plt.plot(x,u[:,0])\n",
    "plt.xlabel('x (m)')\n",
    "plt.ylabel('u (m/s)')\n",
    "plt.title('Initial condition')\n",
    "plt.show()"
   ]
  },
  {
   "cell_type": "code",
   "execution_count": 83,
   "metadata": {},
   "outputs": [],
   "source": [
    "def calculate(u):\n",
    "    omega = 0.01\n",
    "    for k in range(0,nt-1):\n",
    "        u[0,k+1] = 2#np.sin(omega*k*180/(nx*np.pi))\n",
    "        u[-1,k+1] = 1\n",
    "        for i in range(1,nx-1):\n",
    "            u[i,k+1] = u[i,k]+v*(delta_t/delta_x**2)*(u[i+1,k]-2*u[i,k]+u[i-1,k])\n",
    "        #u[0,k+1] = u[1,k+1]\n",
    "    return u"
   ]
  },
  {
   "cell_type": "code",
   "execution_count": 84,
   "metadata": {},
   "outputs": [
    {
     "data": {
      "image/png": "[encoded data removed]",
      "text/plain": [
       "<Figure size 432x288 with 1 Axes>"
      ]
     },
     "metadata": {
      "needs_background": "light"
     },
     "output_type": "display_data"
    }
   ],
   "source": [
    "length = 10\n",
    "u,x = convection(nt,nx,delta_x,v)\n",
    "u = calculate(u)\n",
    "karray = np.linspace(0,nt-1,length)\n",
    "colorwave = cm.plasma(np.linspace(0, 1, length))\n",
    "for i in range(length):\n",
    "    k = int(karray[i])\n",
    "    plot_convection2(u,k,i,x)\n",
    "plt.tight_layout()\n",
    "plt.savefig(str(name)+'.svg', format='svg')\n",
    "plt.show()"
   ]
  },
  {
   "cell_type": "code",
   "execution_count": 13,
   "metadata": {},
   "outputs": [
    {
     "name": "stdout",
     "output_type": "stream",
     "text": [
      "Done!\n"
     ]
    },
    {
     "data": {
      "image/png": "[encoded data removed]",
      "text/plain": [
       "<Figure size 432x288 with 1 Axes>"
      ]
     },
     "metadata": {
      "needs_background": "light"
     },
     "output_type": "display_data"
    }
   ],
   "source": [
    "# Do the calculation here\n",
    "#u = calculate(u)\n",
    "   \n",
    "anim = animation.FuncAnimation(plt.figure(), animate, interval=10, frames=nt, repeat=False)\n",
    "#anim.save(\"heat_equation_solution.mp4\", writer=\"PillowWriter\", fps=2)\n",
    "anim.save(str(name)+\".mp4\")\n",
    "\n",
    "print(\"Done!\")"
   ]
  },
  {
   "cell_type": "code",
   "execution_count": null,
   "metadata": {},
   "outputs": [],
   "source": []
  }
 ],
 "metadata": {
  "kernelspec": {
   "display_name": "Python 3",
   "language": "python",
   "name": "python3"
  },
  "language_info": {
   "codemirror_mode": {
    "name": "ipython",
    "version": 3
   },
   "file_extension": ".py",
   "mimetype": "text/x-python",
   "name": "python",
   "nbconvert_exporter": "python",
   "pygments_lexer": "ipython3",
   "version": "3.8.8"
  }
 },
 "nbformat": 4,
 "nbformat_minor": 4
}
